{
 "cells": [
  {
   "cell_type": "code",
   "execution_count": 1,
   "id": "d6d5b94b",
   "metadata": {
    "_cell_guid": "b1076dfc-b9ad-4769-8c92-a6c4dae69d19",
    "_uuid": "8f2839f25d086af736a60e9eeb907d3b93b6e0e5",
    "execution": {
     "iopub.execute_input": "2024-03-27T16:20:22.760008Z",
     "iopub.status.busy": "2024-03-27T16:20:22.759504Z",
     "iopub.status.idle": "2024-03-27T16:20:23.891373Z",
     "shell.execute_reply": "2024-03-27T16:20:23.887851Z"
    },
    "papermill": {
     "duration": 1.145474,
     "end_time": "2024-03-27T16:20:23.894461",
     "exception": false,
     "start_time": "2024-03-27T16:20:22.748987",
     "status": "completed"
    },
    "tags": []
   },
   "outputs": [
    {
     "name": "stdout",
     "output_type": "stream",
     "text": [
      "/kaggle/input/ml-olympiad-sustainable-urban-living/sample_submission.csv\n",
      "/kaggle/input/ml-olympiad-sustainable-urban-living/train.csv\n",
      "/kaggle/input/ml-olympiad-sustainable-urban-living/test.csv\n"
     ]
    }
   ],
   "source": [
    "# This Python 3 environment comes with many helpful analytics libraries installed\n",
    "# It is defined by the kaggle/python Docker image: https://github.com/kaggle/docker-python\n",
    "# For example, here's several helpful packages to load\n",
    "\n",
    "import numpy as np # linear algebra\n",
    "import pandas as pd # data processing, CSV file I/O (e.g. pd.read_csv)\n",
    "\n",
    "# Input data files are available in the read-only \"../input/\" directory\n",
    "# For example, running this (by clicking run or pressing Shift+Enter) will list all files under the input directory\n",
    "\n",
    "import os\n",
    "for dirname, _, filenames in os.walk('/kaggle/input'):\n",
    "    for filename in filenames:\n",
    "        print(os.path.join(dirname, filename))\n",
    "\n",
    "# You can write up to 20GB to the current directory (/kaggle/working/) that gets preserved as output when you create a version using \"Save & Run All\" \n",
    "# You can also write temporary files to /kaggle/temp/, but they won't be saved outside of the current session"
   ]
  },
  {
   "cell_type": "code",
   "execution_count": 2,
   "id": "0782d3a5",
   "metadata": {
    "execution": {
     "iopub.execute_input": "2024-03-27T16:20:23.911724Z",
     "iopub.status.busy": "2024-03-27T16:20:23.911143Z",
     "iopub.status.idle": "2024-03-27T16:20:25.470047Z",
     "shell.execute_reply": "2024-03-27T16:20:25.469271Z"
    },
    "papermill": {
     "duration": 1.569866,
     "end_time": "2024-03-27T16:20:25.472469",
     "exception": false,
     "start_time": "2024-03-27T16:20:23.902603",
     "status": "completed"
    },
    "tags": []
   },
   "outputs": [],
   "source": [
    "from sklearn.preprocessing import LabelEncoder"
   ]
  },
  {
   "cell_type": "code",
   "execution_count": 3,
   "id": "095a7024",
   "metadata": {
    "execution": {
     "iopub.execute_input": "2024-03-27T16:20:25.488303Z",
     "iopub.status.busy": "2024-03-27T16:20:25.487233Z",
     "iopub.status.idle": "2024-03-27T16:20:25.609374Z",
     "shell.execute_reply": "2024-03-27T16:20:25.608225Z"
    },
    "papermill": {
     "duration": 0.132577,
     "end_time": "2024-03-27T16:20:25.611883",
     "exception": false,
     "start_time": "2024-03-27T16:20:25.479306",
     "status": "completed"
    },
    "tags": []
   },
   "outputs": [],
   "source": [
    "x_train = pd.read_csv('/kaggle/input/ml-olympiad-sustainable-urban-living/train.csv')"
   ]
  },
  {
   "cell_type": "code",
   "execution_count": 4,
   "id": "f73f91dd",
   "metadata": {
    "execution": {
     "iopub.execute_input": "2024-03-27T16:20:25.628789Z",
     "iopub.status.busy": "2024-03-27T16:20:25.627208Z",
     "iopub.status.idle": "2024-03-27T16:20:25.633485Z",
     "shell.execute_reply": "2024-03-27T16:20:25.632756Z"
    },
    "papermill": {
     "duration": 0.016105,
     "end_time": "2024-03-27T16:20:25.635411",
     "exception": false,
     "start_time": "2024-03-27T16:20:25.619306",
     "status": "completed"
    },
    "tags": []
   },
   "outputs": [],
   "source": [
    "feature_classifires_oneHot = ['Property_Type','Water_Supply']\n",
    "feature_classifires_label = ['Furnishing','Power_Backup','Crime_Rate','Dust_and_Noise']\n",
    "feature_numeric = ['Property_Area','Number_of_Windows','Number_of_Doors','Frequency_of_Powercuts','Traffic_Density_Score','Air_Quality_Index','Neighborhood_Review']"
   ]
  },
  {
   "cell_type": "code",
   "execution_count": 5,
   "id": "05a5a9f1",
   "metadata": {
    "execution": {
     "iopub.execute_input": "2024-03-27T16:20:25.650638Z",
     "iopub.status.busy": "2024-03-27T16:20:25.650221Z",
     "iopub.status.idle": "2024-03-27T16:20:25.673736Z",
     "shell.execute_reply": "2024-03-27T16:20:25.672522Z"
    },
    "papermill": {
     "duration": 0.033497,
     "end_time": "2024-03-27T16:20:25.675870",
     "exception": false,
     "start_time": "2024-03-27T16:20:25.642373",
     "status": "completed"
    },
    "tags": []
   },
   "outputs": [
    {
     "name": "stdout",
     "output_type": "stream",
     "text": [
      "Property_Type ['Apartment' 'Bungalow' 'Single-family home' 'Duplex' '#R%$G&867'\n",
      " 'Container Home']\n",
      "Water_Supply ['Once in a day - Morning' 'Once in a day - Evening' 'All time'\n",
      " 'NOT MENTIONED' 'Once in two days']\n",
      "Furnishing ['Semi_Furnished' 'Unfurnished' 'Fully Furnished' nan]\n",
      "Power_Backup ['No' 'Yes' 'NOT MENTIONED']\n",
      "Crime_Rate ['Slightly below average' 'Well below average' 'Well above average' nan\n",
      " 'Slightly above average']\n",
      "Dust_and_Noise ['Medium' nan 'High' 'Low']\n"
     ]
    }
   ],
   "source": [
    "for feature in feature_classifires_oneHot:\n",
    "    print(feature, x_train[feature].unique())\n",
    "for feature in feature_classifires_label:\n",
    "    print(feature, x_train[feature].unique())"
   ]
  },
  {
   "cell_type": "code",
   "execution_count": 6,
   "id": "ea11ad87",
   "metadata": {
    "execution": {
     "iopub.execute_input": "2024-03-27T16:20:25.694804Z",
     "iopub.status.busy": "2024-03-27T16:20:25.692963Z",
     "iopub.status.idle": "2024-03-27T16:20:25.718268Z",
     "shell.execute_reply": "2024-03-27T16:20:25.716484Z"
    },
    "papermill": {
     "duration": 0.038243,
     "end_time": "2024-03-27T16:20:25.721226",
     "exception": false,
     "start_time": "2024-03-27T16:20:25.682983",
     "status": "completed"
    },
    "tags": []
   },
   "outputs": [],
   "source": [
    "x_train['Furnishing'] = x_train['Furnishing'].fillna(x_train['Furnishing'].mode()[0])\n",
    "x_train['Crime_Rate'] = x_train['Crime_Rate'].fillna(x_train['Crime_Rate'].mode()[0])\n",
    "x_train['Dust_and_Noise'] = x_train['Dust_and_Noise'].fillna(x_train['Dust_and_Noise'].mode()[0])"
   ]
  },
  {
   "cell_type": "code",
   "execution_count": 7,
   "id": "b1540c21",
   "metadata": {
    "execution": {
     "iopub.execute_input": "2024-03-27T16:20:25.738535Z",
     "iopub.status.busy": "2024-03-27T16:20:25.737204Z",
     "iopub.status.idle": "2024-03-27T16:20:25.752078Z",
     "shell.execute_reply": "2024-03-27T16:20:25.750333Z"
    },
    "papermill": {
     "duration": 0.026941,
     "end_time": "2024-03-27T16:20:25.755100",
     "exception": false,
     "start_time": "2024-03-27T16:20:25.728159",
     "status": "completed"
    },
    "tags": []
   },
   "outputs": [],
   "source": [
    "def imputeForNullCategorical(feature,df):\n",
    "    if df[feature].isnull().any():\n",
    "        df[feature].fillna(df[feature].mode()[0])\n",
    "    return df\n",
    "\n",
    "for feature in feature_classifires_oneHot+feature_classifires_label:\n",
    "    x_train = imputeForNullCategorical(feature,x_train)"
   ]
  },
  {
   "cell_type": "code",
   "execution_count": 8,
   "id": "e4f8e915",
   "metadata": {
    "execution": {
     "iopub.execute_input": "2024-03-27T16:20:25.775002Z",
     "iopub.status.busy": "2024-03-27T16:20:25.774316Z",
     "iopub.status.idle": "2024-03-27T16:20:25.789459Z",
     "shell.execute_reply": "2024-03-27T16:20:25.787565Z"
    },
    "papermill": {
     "duration": 0.028233,
     "end_time": "2024-03-27T16:20:25.793182",
     "exception": false,
     "start_time": "2024-03-27T16:20:25.764949",
     "status": "completed"
    },
    "tags": []
   },
   "outputs": [],
   "source": [
    "x_train['Water_Supply'] = x_train['Water_Supply'].replace('NOT MENTIONED',x_train['Water_Supply'].mode()[0])\n",
    "x_train['Power_Backup'] = x_train['Power_Backup'].replace('NOT MENTIONED',x_train['Power_Backup'].mode()[0])"
   ]
  },
  {
   "cell_type": "code",
   "execution_count": 9,
   "id": "d81212a8",
   "metadata": {
    "execution": {
     "iopub.execute_input": "2024-03-27T16:20:25.810738Z",
     "iopub.status.busy": "2024-03-27T16:20:25.810268Z",
     "iopub.status.idle": "2024-03-27T16:20:25.855823Z",
     "shell.execute_reply": "2024-03-27T16:20:25.854457Z"
    },
    "papermill": {
     "duration": 0.057576,
     "end_time": "2024-03-27T16:20:25.858668",
     "exception": false,
     "start_time": "2024-03-27T16:20:25.801092",
     "status": "completed"
    },
    "tags": []
   },
   "outputs": [],
   "source": [
    "def encodeLabel(df,mapping,feature):\n",
    "    values = df[feature].values\n",
    "    label_encoder = LabelEncoder()\n",
    "    label_encoder.fit(list(mapping.keys()))\n",
    "    df_encoded_values = [mapping[value] for value in values]\n",
    "    df[feature] = df_encoded_values\n",
    "    return df\n",
    "Crime_Rate_label_mapping = {\n",
    "        'Slightly below average':1,\n",
    "        'Well below average':0,\n",
    "        'Well above average':3,\n",
    "        'Slightly above average':2\n",
    "}\n",
    "Furnishing_mapping = {\n",
    "    'Unfurnished' : 0,\n",
    "    'Semi_Furnished' : 1,\n",
    "    'Fully Furnished' : 2\n",
    "}\n",
    "Power_Backup_mapping = {\n",
    "    'No' : 1,\n",
    "    'Yes' : 2\n",
    "}\n",
    "Dust_and_Noise_mapping = {\n",
    "    'Low' : 0,\n",
    "    'Medium' : 1,\n",
    "    'High' : 2\n",
    "}\n",
    "x_train = encodeLabel(x_train, Furnishing_mapping, 'Furnishing')\n",
    "x_train = encodeLabel(x_train, Crime_Rate_label_mapping, 'Crime_Rate')\n",
    "x_train = encodeLabel(x_train, Power_Backup_mapping, 'Power_Backup')\n",
    "x_train = encodeLabel(x_train, Dust_and_Noise_mapping, 'Dust_and_Noise')"
   ]
  },
  {
   "cell_type": "code",
   "execution_count": 10,
   "id": "c98f0412",
   "metadata": {
    "execution": {
     "iopub.execute_input": "2024-03-27T16:20:25.875475Z",
     "iopub.status.busy": "2024-03-27T16:20:25.875059Z",
     "iopub.status.idle": "2024-03-27T16:20:25.911083Z",
     "shell.execute_reply": "2024-03-27T16:20:25.909614Z"
    },
    "papermill": {
     "duration": 0.048557,
     "end_time": "2024-03-27T16:20:25.914121",
     "exception": false,
     "start_time": "2024-03-27T16:20:25.865564",
     "status": "completed"
    },
    "tags": []
   },
   "outputs": [],
   "source": [
    "def oneHotEncode(df, feature):\n",
    "    \n",
    "    oneHotEncoded = pd.get_dummies(df[feature], prefix=feature)\n",
    "    df = pd.concat([df, oneHotEncoded], axis=1)\n",
    "    one_Hot_List = oneHotEncoded.columns.tolist()\n",
    "    df.drop(feature, axis=1, inplace=True)\n",
    "    return df\n",
    "\n",
    "for feature in feature_classifires_oneHot:\n",
    "     x_train = oneHotEncode(x_train, feature)"
   ]
  },
  {
   "cell_type": "code",
   "execution_count": 11,
   "id": "8ee2ad77",
   "metadata": {
    "execution": {
     "iopub.execute_input": "2024-03-27T16:20:25.930468Z",
     "iopub.status.busy": "2024-03-27T16:20:25.929989Z",
     "iopub.status.idle": "2024-03-27T16:20:25.937090Z",
     "shell.execute_reply": "2024-03-27T16:20:25.935570Z"
    },
    "papermill": {
     "duration": 0.018771,
     "end_time": "2024-03-27T16:20:25.940235",
     "exception": false,
     "start_time": "2024-03-27T16:20:25.921464",
     "status": "completed"
    },
    "tags": []
   },
   "outputs": [
    {
     "name": "stdout",
     "output_type": "stream",
     "text": [
      "Index(['Id', 'Property_Area', 'Number_of_Windows', 'Number_of_Doors',\n",
      "       'Furnishing', 'Frequency_of_Powercuts', 'Power_Backup',\n",
      "       'Traffic_Density_Score', 'Crime_Rate', 'Dust_and_Noise',\n",
      "       'Air_Quality_Index', 'Neighborhood_Review', 'Habitability_score',\n",
      "       'Property_Type_#R%$G&867', 'Property_Type_Apartment',\n",
      "       'Property_Type_Bungalow', 'Property_Type_Container Home',\n",
      "       'Property_Type_Duplex', 'Property_Type_Single-family home',\n",
      "       'Water_Supply_All time', 'Water_Supply_Once in a day - Evening',\n",
      "       'Water_Supply_Once in a day - Morning',\n",
      "       'Water_Supply_Once in two days'],\n",
      "      dtype='object')\n"
     ]
    }
   ],
   "source": [
    "print(x_train.columns)"
   ]
  },
  {
   "cell_type": "code",
   "execution_count": 12,
   "id": "a95217af",
   "metadata": {
    "execution": {
     "iopub.execute_input": "2024-03-27T16:20:25.957497Z",
     "iopub.status.busy": "2024-03-27T16:20:25.956077Z",
     "iopub.status.idle": "2024-03-27T16:20:25.976062Z",
     "shell.execute_reply": "2024-03-27T16:20:25.973915Z"
    },
    "papermill": {
     "duration": 0.031811,
     "end_time": "2024-03-27T16:20:25.979211",
     "exception": false,
     "start_time": "2024-03-27T16:20:25.947400",
     "status": "completed"
    },
    "tags": []
   },
   "outputs": [
    {
     "name": "stderr",
     "output_type": "stream",
     "text": [
      "/tmp/ipykernel_19/226585702.py:3: FutureWarning: A value is trying to be set on a copy of a DataFrame or Series through chained assignment using an inplace method.\n",
      "The behavior will change in pandas 3.0. This inplace method will never work because the intermediate object on which we are setting values always behaves as a copy.\n",
      "\n",
      "For example, when doing 'df[col].method(value, inplace=True)', try using 'df.method({col: value}, inplace=True)' or df[col] = df[col].method(value) instead, to perform the operation inplace on the original object.\n",
      "\n",
      "\n",
      "  df[feature].fillna(df[feature].median(),inplace=True)\n",
      "/tmp/ipykernel_19/226585702.py:3: FutureWarning: A value is trying to be set on a copy of a DataFrame or Series through chained assignment using an inplace method.\n",
      "The behavior will change in pandas 3.0. This inplace method will never work because the intermediate object on which we are setting values always behaves as a copy.\n",
      "\n",
      "For example, when doing 'df[col].method(value, inplace=True)', try using 'df.method({col: value}, inplace=True)' or df[col] = df[col].method(value) instead, to perform the operation inplace on the original object.\n",
      "\n",
      "\n",
      "  df[feature].fillna(df[feature].median(),inplace=True)\n"
     ]
    }
   ],
   "source": [
    "def imputeForNullNumerics(feature,df):\n",
    "    if df[feature].isnull().any():\n",
    "        df[feature].fillna(df[feature].median(),inplace=True)\n",
    "    return df\n",
    "\n",
    "for feature in feature_numeric:\n",
    "    x_train = imputeForNullNumerics(feature,x_train)"
   ]
  },
  {
   "cell_type": "code",
   "execution_count": 13,
   "id": "1836dbfc",
   "metadata": {
    "execution": {
     "iopub.execute_input": "2024-03-27T16:20:25.997181Z",
     "iopub.status.busy": "2024-03-27T16:20:25.996585Z",
     "iopub.status.idle": "2024-03-27T16:20:26.003013Z",
     "shell.execute_reply": "2024-03-27T16:20:26.001991Z"
    },
    "papermill": {
     "duration": 0.018153,
     "end_time": "2024-03-27T16:20:26.005296",
     "exception": false,
     "start_time": "2024-03-27T16:20:25.987143",
     "status": "completed"
    },
    "tags": []
   },
   "outputs": [],
   "source": [
    "x_train = x_train.drop(columns = 'Id')"
   ]
  },
  {
   "cell_type": "code",
   "execution_count": 14,
   "id": "5170e237",
   "metadata": {
    "execution": {
     "iopub.execute_input": "2024-03-27T16:20:26.022245Z",
     "iopub.status.busy": "2024-03-27T16:20:26.021675Z",
     "iopub.status.idle": "2024-03-27T16:20:26.050249Z",
     "shell.execute_reply": "2024-03-27T16:20:26.048783Z"
    },
    "papermill": {
     "duration": 0.040059,
     "end_time": "2024-03-27T16:20:26.053028",
     "exception": false,
     "start_time": "2024-03-27T16:20:26.012969",
     "status": "completed"
    },
    "tags": []
   },
   "outputs": [],
   "source": [
    "from sklearn.preprocessing import MinMaxScaler\n",
    "\n",
    "def normalizeFeatures(df,feature):\n",
    "    scaler =MinMaxScaler()\n",
    "    df[feature] = scaler.fit_transform(df[[feature]])\n",
    "    return df\n",
    "\n",
    "for feature in feature_numeric:\n",
    "    normalizeFeatures(x_train, feature)"
   ]
  },
  {
   "cell_type": "code",
   "execution_count": 15,
   "id": "dfe2f81f",
   "metadata": {
    "execution": {
     "iopub.execute_input": "2024-03-27T16:20:26.069365Z",
     "iopub.status.busy": "2024-03-27T16:20:26.068979Z",
     "iopub.status.idle": "2024-03-27T16:20:26.686947Z",
     "shell.execute_reply": "2024-03-27T16:20:26.685297Z"
    },
    "papermill": {
     "duration": 0.629229,
     "end_time": "2024-03-27T16:20:26.689715",
     "exception": false,
     "start_time": "2024-03-27T16:20:26.060486",
     "status": "completed"
    },
    "tags": []
   },
   "outputs": [],
   "source": [
    "import pandas as pd\n",
    "from sklearn.model_selection import train_test_split\n",
    "from sklearn.linear_model import LinearRegression\n",
    "from sklearn.ensemble import RandomForestRegressor\n",
    "from sklearn.svm import SVR\n",
    "from sklearn.metrics import mean_squared_error, mean_absolute_error, r2_score"
   ]
  },
  {
   "cell_type": "code",
   "execution_count": 16,
   "id": "b88f7f1b",
   "metadata": {
    "execution": {
     "iopub.execute_input": "2024-03-27T16:20:26.707594Z",
     "iopub.status.busy": "2024-03-27T16:20:26.707120Z",
     "iopub.status.idle": "2024-03-27T16:20:26.717037Z",
     "shell.execute_reply": "2024-03-27T16:20:26.715186Z"
    },
    "papermill": {
     "duration": 0.022192,
     "end_time": "2024-03-27T16:20:26.720279",
     "exception": false,
     "start_time": "2024-03-27T16:20:26.698087",
     "status": "completed"
    },
    "tags": []
   },
   "outputs": [],
   "source": [
    "y_train = x_train['Habitability_score']\n",
    "x_train = x_train.drop(columns=['Habitability_score'])"
   ]
  },
  {
   "cell_type": "code",
   "execution_count": 17,
   "id": "e64286b5",
   "metadata": {
    "execution": {
     "iopub.execute_input": "2024-03-27T16:20:26.740261Z",
     "iopub.status.busy": "2024-03-27T16:20:26.739889Z",
     "iopub.status.idle": "2024-03-27T16:20:26.759457Z",
     "shell.execute_reply": "2024-03-27T16:20:26.757958Z"
    },
    "papermill": {
     "duration": 0.032097,
     "end_time": "2024-03-27T16:20:26.762556",
     "exception": false,
     "start_time": "2024-03-27T16:20:26.730459",
     "status": "completed"
    },
    "tags": []
   },
   "outputs": [],
   "source": [
    "X_train, X_test, y_train, y_test = train_test_split(x_train, y_train, test_size=0.2, random_state=42)"
   ]
  },
  {
   "cell_type": "code",
   "execution_count": 18,
   "id": "b543b225",
   "metadata": {
    "execution": {
     "iopub.execute_input": "2024-03-27T16:20:26.787097Z",
     "iopub.status.busy": "2024-03-27T16:20:26.786641Z",
     "iopub.status.idle": "2024-03-27T16:21:10.694148Z",
     "shell.execute_reply": "2024-03-27T16:21:10.692939Z"
    },
    "papermill": {
     "duration": 43.931161,
     "end_time": "2024-03-27T16:21:10.702860",
     "exception": false,
     "start_time": "2024-03-27T16:20:26.771699",
     "status": "completed"
    },
    "tags": []
   },
   "outputs": [
    {
     "data": {
      "text/html": [
       "<style>#sk-container-id-1 {color: black;background-color: white;}#sk-container-id-1 pre{padding: 0;}#sk-container-id-1 div.sk-toggleable {background-color: white;}#sk-container-id-1 label.sk-toggleable__label {cursor: pointer;display: block;width: 100%;margin-bottom: 0;padding: 0.3em;box-sizing: border-box;text-align: center;}#sk-container-id-1 label.sk-toggleable__label-arrow:before {content: \"▸\";float: left;margin-right: 0.25em;color: #696969;}#sk-container-id-1 label.sk-toggleable__label-arrow:hover:before {color: black;}#sk-container-id-1 div.sk-estimator:hover label.sk-toggleable__label-arrow:before {color: black;}#sk-container-id-1 div.sk-toggleable__content {max-height: 0;max-width: 0;overflow: hidden;text-align: left;background-color: #f0f8ff;}#sk-container-id-1 div.sk-toggleable__content pre {margin: 0.2em;color: black;border-radius: 0.25em;background-color: #f0f8ff;}#sk-container-id-1 input.sk-toggleable__control:checked~div.sk-toggleable__content {max-height: 200px;max-width: 100%;overflow: auto;}#sk-container-id-1 input.sk-toggleable__control:checked~label.sk-toggleable__label-arrow:before {content: \"▾\";}#sk-container-id-1 div.sk-estimator input.sk-toggleable__control:checked~label.sk-toggleable__label {background-color: #d4ebff;}#sk-container-id-1 div.sk-label input.sk-toggleable__control:checked~label.sk-toggleable__label {background-color: #d4ebff;}#sk-container-id-1 input.sk-hidden--visually {border: 0;clip: rect(1px 1px 1px 1px);clip: rect(1px, 1px, 1px, 1px);height: 1px;margin: -1px;overflow: hidden;padding: 0;position: absolute;width: 1px;}#sk-container-id-1 div.sk-estimator {font-family: monospace;background-color: #f0f8ff;border: 1px dotted black;border-radius: 0.25em;box-sizing: border-box;margin-bottom: 0.5em;}#sk-container-id-1 div.sk-estimator:hover {background-color: #d4ebff;}#sk-container-id-1 div.sk-parallel-item::after {content: \"\";width: 100%;border-bottom: 1px solid gray;flex-grow: 1;}#sk-container-id-1 div.sk-label:hover label.sk-toggleable__label {background-color: #d4ebff;}#sk-container-id-1 div.sk-serial::before {content: \"\";position: absolute;border-left: 1px solid gray;box-sizing: border-box;top: 0;bottom: 0;left: 50%;z-index: 0;}#sk-container-id-1 div.sk-serial {display: flex;flex-direction: column;align-items: center;background-color: white;padding-right: 0.2em;padding-left: 0.2em;position: relative;}#sk-container-id-1 div.sk-item {position: relative;z-index: 1;}#sk-container-id-1 div.sk-parallel {display: flex;align-items: stretch;justify-content: center;background-color: white;position: relative;}#sk-container-id-1 div.sk-item::before, #sk-container-id-1 div.sk-parallel-item::before {content: \"\";position: absolute;border-left: 1px solid gray;box-sizing: border-box;top: 0;bottom: 0;left: 50%;z-index: -1;}#sk-container-id-1 div.sk-parallel-item {display: flex;flex-direction: column;z-index: 1;position: relative;background-color: white;}#sk-container-id-1 div.sk-parallel-item:first-child::after {align-self: flex-end;width: 50%;}#sk-container-id-1 div.sk-parallel-item:last-child::after {align-self: flex-start;width: 50%;}#sk-container-id-1 div.sk-parallel-item:only-child::after {width: 0;}#sk-container-id-1 div.sk-dashed-wrapped {border: 1px dashed gray;margin: 0 0.4em 0.5em 0.4em;box-sizing: border-box;padding-bottom: 0.4em;background-color: white;}#sk-container-id-1 div.sk-label label {font-family: monospace;font-weight: bold;display: inline-block;line-height: 1.2em;}#sk-container-id-1 div.sk-label-container {text-align: center;}#sk-container-id-1 div.sk-container {/* jupyter's `normalize.less` sets `[hidden] { display: none; }` but bootstrap.min.css set `[hidden] { display: none !important; }` so we also need the `!important` here to be able to override the default hidden behavior on the sphinx rendered scikit-learn.org. See: https://github.com/scikit-learn/scikit-learn/issues/21755 */display: inline-block !important;position: relative;}#sk-container-id-1 div.sk-text-repr-fallback {display: none;}</style><div id=\"sk-container-id-1\" class=\"sk-top-container\"><div class=\"sk-text-repr-fallback\"><pre>SVR()</pre><b>In a Jupyter environment, please rerun this cell to show the HTML representation or trust the notebook. <br />On GitHub, the HTML representation is unable to render, please try loading this page with nbviewer.org.</b></div><div class=\"sk-container\" hidden><div class=\"sk-item\"><div class=\"sk-estimator sk-toggleable\"><input class=\"sk-toggleable__control sk-hidden--visually\" id=\"sk-estimator-id-1\" type=\"checkbox\" checked><label for=\"sk-estimator-id-1\" class=\"sk-toggleable__label sk-toggleable__label-arrow\">SVR</label><div class=\"sk-toggleable__content\"><pre>SVR()</pre></div></div></div></div></div>"
      ],
      "text/plain": [
       "SVR()"
      ]
     },
     "execution_count": 18,
     "metadata": {},
     "output_type": "execute_result"
    }
   ],
   "source": [
    "modelLinear = LinearRegression()\n",
    "modelLinear.fit(X_train, y_train)\n",
    "\n",
    "modelRF = RandomForestRegressor()\n",
    "modelRF.fit(X_train, y_train)\n",
    "\n",
    "modelSVR = SVR(kernel='rbf')\n",
    "modelSVR.fit(X_train, y_train)"
   ]
  },
  {
   "cell_type": "code",
   "execution_count": 19,
   "id": "e759ae1e",
   "metadata": {
    "execution": {
     "iopub.execute_input": "2024-03-27T16:21:10.724267Z",
     "iopub.status.busy": "2024-03-27T16:21:10.723791Z",
     "iopub.status.idle": "2024-03-27T16:21:19.180956Z",
     "shell.execute_reply": "2024-03-27T16:21:19.178023Z"
    },
    "papermill": {
     "duration": 8.472239,
     "end_time": "2024-03-27T16:21:19.184517",
     "exception": false,
     "start_time": "2024-03-27T16:21:10.712278",
     "status": "completed"
    },
    "tags": []
   },
   "outputs": [
    {
     "name": "stdout",
     "output_type": "stream",
     "text": [
      "Linear Regression Metrics:\n",
      "Mean Squared Error: 82.39547207531959\n",
      "Mean Absolute Error: 7.299650522870246\n",
      "R-squared (R2) Score: 0.5666871216404139\n",
      "\n",
      "Random Forest Metrics:\n",
      "Mean Squared Error: 35.56253631831171\n",
      "Mean Absolute Error: 4.494603370253165\n",
      "R-squared (R2) Score: 0.8129787403879597\n",
      "\n",
      "Support Vector Regression Metrics:\n",
      "Mean Squared Error: 55.648898359279805\n",
      "Mean Absolute Error: 5.768668479831323\n",
      "R-squared (R2) Score: 0.7073457591995227\n"
     ]
    }
   ],
   "source": [
    "# Predictions for Linear Regression model\n",
    "Y_pred_linear = modelLinear.predict(X_test)\n",
    "# Predictions for Random Forest model\n",
    "Y_pred_RF = modelRF.predict(X_test)\n",
    "# Predictions for Support Vector Regression model\n",
    "Y_pred_SVR = modelSVR.predict(X_test)\n",
    "\n",
    "# Calculate evaluation metrics for Linear Regression\n",
    "mse_linear = mean_squared_error(y_test, Y_pred_linear)\n",
    "mae_linear = mean_absolute_error(y_test, Y_pred_linear)\n",
    "r2_linear = r2_score(y_test, Y_pred_linear)\n",
    "print(\"Linear Regression Metrics:\")\n",
    "print(\"Mean Squared Error:\", mse_linear)\n",
    "print(\"Mean Absolute Error:\", mae_linear)\n",
    "print(\"R-squared (R2) Score:\", r2_linear)\n",
    "print()\n",
    "\n",
    "# Calculate evaluation metrics for Random Forest\n",
    "mse_RF = mean_squared_error(y_test, Y_pred_RF)\n",
    "mae_RF = mean_absolute_error(y_test, Y_pred_RF)\n",
    "r2_RF = r2_score(y_test, Y_pred_RF)\n",
    "print(\"Random Forest Metrics:\")\n",
    "print(\"Mean Squared Error:\", mse_RF)\n",
    "print(\"Mean Absolute Error:\", mae_RF)\n",
    "print(\"R-squared (R2) Score:\", r2_RF)\n",
    "print()\n",
    "\n",
    "# Calculate evaluation metrics for Support Vector Regression\n",
    "mse_SVR = mean_squared_error(y_test, Y_pred_SVR)\n",
    "mae_SVR = mean_absolute_error(y_test, Y_pred_SVR)\n",
    "r2_SVR = r2_score(y_test, Y_pred_SVR)\n",
    "print(\"Support Vector Regression Metrics:\")\n",
    "print(\"Mean Squared Error:\", mse_SVR)\n",
    "print(\"Mean Absolute Error:\", mae_SVR)\n",
    "print(\"R-squared (R2) Score:\", r2_SVR)"
   ]
  },
  {
   "cell_type": "code",
   "execution_count": 20,
   "id": "6da5241a",
   "metadata": {
    "execution": {
     "iopub.execute_input": "2024-03-27T16:21:19.211125Z",
     "iopub.status.busy": "2024-03-27T16:21:19.210147Z",
     "iopub.status.idle": "2024-03-27T16:21:19.217769Z",
     "shell.execute_reply": "2024-03-27T16:21:19.216323Z"
    },
    "papermill": {
     "duration": 0.026106,
     "end_time": "2024-03-27T16:21:19.222239",
     "exception": false,
     "start_time": "2024-03-27T16:21:19.196133",
     "status": "completed"
    },
    "tags": []
   },
   "outputs": [],
   "source": [
    "cat_features = ['Property_Type','Water_Supply','Furnishing','Power_Backup','Crime_Rate','Dust_and_Noise']"
   ]
  },
  {
   "cell_type": "code",
   "execution_count": 21,
   "id": "96a1f8b0",
   "metadata": {
    "execution": {
     "iopub.execute_input": "2024-03-27T16:21:19.246826Z",
     "iopub.status.busy": "2024-03-27T16:21:19.246327Z",
     "iopub.status.idle": "2024-03-27T16:21:19.292780Z",
     "shell.execute_reply": "2024-03-27T16:21:19.290822Z"
    },
    "papermill": {
     "duration": 0.063392,
     "end_time": "2024-03-27T16:21:19.296125",
     "exception": false,
     "start_time": "2024-03-27T16:21:19.232733",
     "status": "completed"
    },
    "tags": []
   },
   "outputs": [],
   "source": [
    "x_validation = pd.read_csv('/kaggle/input/ml-olympiad-sustainable-urban-living/test.csv')\n",
    "Id = x_validation['Id']\n",
    "x_validation = x_validation.drop(columns=['Id'])"
   ]
  },
  {
   "cell_type": "code",
   "execution_count": 22,
   "id": "161c2b94",
   "metadata": {
    "execution": {
     "iopub.execute_input": "2024-03-27T16:21:19.314533Z",
     "iopub.status.busy": "2024-03-27T16:21:19.313872Z",
     "iopub.status.idle": "2024-03-27T16:21:19.326888Z",
     "shell.execute_reply": "2024-03-27T16:21:19.325658Z"
    },
    "papermill": {
     "duration": 0.02506,
     "end_time": "2024-03-27T16:21:19.329786",
     "exception": false,
     "start_time": "2024-03-27T16:21:19.304726",
     "status": "completed"
    },
    "tags": []
   },
   "outputs": [],
   "source": [
    "x_validation['Furnishing'] = x_validation['Furnishing'].fillna(x_validation['Furnishing'].mode()[0])\n",
    "x_validation['Crime_Rate'] = x_validation['Crime_Rate'].fillna(x_validation['Crime_Rate'].mode()[0])\n",
    "x_validation['Dust_and_Noise'] = x_validation['Dust_and_Noise'].fillna(x_validation['Dust_and_Noise'].mode()[0])"
   ]
  },
  {
   "cell_type": "code",
   "execution_count": 23,
   "id": "10e38cb6",
   "metadata": {
    "execution": {
     "iopub.execute_input": "2024-03-27T16:21:19.348227Z",
     "iopub.status.busy": "2024-03-27T16:21:19.347773Z",
     "iopub.status.idle": "2024-03-27T16:21:19.358103Z",
     "shell.execute_reply": "2024-03-27T16:21:19.356742Z"
    },
    "papermill": {
     "duration": 0.023032,
     "end_time": "2024-03-27T16:21:19.360823",
     "exception": false,
     "start_time": "2024-03-27T16:21:19.337791",
     "status": "completed"
    },
    "tags": []
   },
   "outputs": [],
   "source": [
    "x_validation['Water_Supply'] = x_validation['Water_Supply'].replace('NOT MENTIONED',x_validation['Water_Supply'].mode()[0])\n",
    "x_validation['Power_Backup'] = x_validation['Power_Backup'].replace('NOT MENTIONED',x_validation['Power_Backup'].mode()[0])\n"
   ]
  },
  {
   "cell_type": "code",
   "execution_count": 24,
   "id": "7e742cd3",
   "metadata": {
    "execution": {
     "iopub.execute_input": "2024-03-27T16:21:19.380199Z",
     "iopub.status.busy": "2024-03-27T16:21:19.379797Z",
     "iopub.status.idle": "2024-03-27T16:21:19.390114Z",
     "shell.execute_reply": "2024-03-27T16:21:19.388419Z"
    },
    "papermill": {
     "duration": 0.024605,
     "end_time": "2024-03-27T16:21:19.393066",
     "exception": false,
     "start_time": "2024-03-27T16:21:19.368461",
     "status": "completed"
    },
    "tags": []
   },
   "outputs": [
    {
     "data": {
      "text/plain": [
       "array(['Unfurnished', 'Semi_Furnished', 'Fully Furnished'], dtype=object)"
      ]
     },
     "execution_count": 24,
     "metadata": {},
     "output_type": "execute_result"
    }
   ],
   "source": [
    "x_validation['Furnishing'].unique()"
   ]
  },
  {
   "cell_type": "code",
   "execution_count": 25,
   "id": "e18c5cf4",
   "metadata": {
    "execution": {
     "iopub.execute_input": "2024-03-27T16:21:19.411462Z",
     "iopub.status.busy": "2024-03-27T16:21:19.411018Z",
     "iopub.status.idle": "2024-03-27T16:21:19.420767Z",
     "shell.execute_reply": "2024-03-27T16:21:19.419049Z"
    },
    "papermill": {
     "duration": 0.022784,
     "end_time": "2024-03-27T16:21:19.424061",
     "exception": false,
     "start_time": "2024-03-27T16:21:19.401277",
     "status": "completed"
    },
    "tags": []
   },
   "outputs": [
    {
     "data": {
      "text/plain": [
       "array(['Unfurnished', 'Semi_Furnished', 'Fully Furnished'], dtype=object)"
      ]
     },
     "execution_count": 25,
     "metadata": {},
     "output_type": "execute_result"
    }
   ],
   "source": [
    "\n",
    "x_validation['Furnishing'].unique()"
   ]
  },
  {
   "cell_type": "code",
   "execution_count": 26,
   "id": "a2143896",
   "metadata": {
    "execution": {
     "iopub.execute_input": "2024-03-27T16:21:19.441856Z",
     "iopub.status.busy": "2024-03-27T16:21:19.441481Z",
     "iopub.status.idle": "2024-03-27T16:21:19.458222Z",
     "shell.execute_reply": "2024-03-27T16:21:19.456162Z"
    },
    "papermill": {
     "duration": 0.028983,
     "end_time": "2024-03-27T16:21:19.461255",
     "exception": false,
     "start_time": "2024-03-27T16:21:19.432272",
     "status": "completed"
    },
    "tags": []
   },
   "outputs": [],
   "source": [
    "x_validation = encodeLabel(x_validation, Furnishing_mapping, 'Furnishing')\n",
    "x_validation = encodeLabel(x_validation, Crime_Rate_label_mapping, 'Crime_Rate')\n",
    "x_validation = encodeLabel(x_validation, Power_Backup_mapping, 'Power_Backup')\n",
    "x_validation = encodeLabel(x_validation, Dust_and_Noise_mapping, 'Dust_and_Noise')"
   ]
  },
  {
   "cell_type": "code",
   "execution_count": 27,
   "id": "0e6220f4",
   "metadata": {
    "execution": {
     "iopub.execute_input": "2024-03-27T16:21:19.478791Z",
     "iopub.status.busy": "2024-03-27T16:21:19.478386Z",
     "iopub.status.idle": "2024-03-27T16:21:19.490244Z",
     "shell.execute_reply": "2024-03-27T16:21:19.489239Z"
    },
    "papermill": {
     "duration": 0.023922,
     "end_time": "2024-03-27T16:21:19.492901",
     "exception": false,
     "start_time": "2024-03-27T16:21:19.468979",
     "status": "completed"
    },
    "tags": []
   },
   "outputs": [],
   "source": [
    "for feature in feature_classifires_oneHot:\n",
    "     x_validation = oneHotEncode(x_validation, feature)"
   ]
  },
  {
   "cell_type": "code",
   "execution_count": 28,
   "id": "69cb8ee9",
   "metadata": {
    "execution": {
     "iopub.execute_input": "2024-03-27T16:21:19.510235Z",
     "iopub.status.busy": "2024-03-27T16:21:19.509804Z",
     "iopub.status.idle": "2024-03-27T16:21:19.519683Z",
     "shell.execute_reply": "2024-03-27T16:21:19.518732Z"
    },
    "papermill": {
     "duration": 0.021112,
     "end_time": "2024-03-27T16:21:19.521789",
     "exception": false,
     "start_time": "2024-03-27T16:21:19.500677",
     "status": "completed"
    },
    "tags": []
   },
   "outputs": [
    {
     "name": "stderr",
     "output_type": "stream",
     "text": [
      "/tmp/ipykernel_19/226585702.py:3: FutureWarning: A value is trying to be set on a copy of a DataFrame or Series through chained assignment using an inplace method.\n",
      "The behavior will change in pandas 3.0. This inplace method will never work because the intermediate object on which we are setting values always behaves as a copy.\n",
      "\n",
      "For example, when doing 'df[col].method(value, inplace=True)', try using 'df.method({col: value}, inplace=True)' or df[col] = df[col].method(value) instead, to perform the operation inplace on the original object.\n",
      "\n",
      "\n",
      "  df[feature].fillna(df[feature].median(),inplace=True)\n",
      "/tmp/ipykernel_19/226585702.py:3: FutureWarning: A value is trying to be set on a copy of a DataFrame or Series through chained assignment using an inplace method.\n",
      "The behavior will change in pandas 3.0. This inplace method will never work because the intermediate object on which we are setting values always behaves as a copy.\n",
      "\n",
      "For example, when doing 'df[col].method(value, inplace=True)', try using 'df.method({col: value}, inplace=True)' or df[col] = df[col].method(value) instead, to perform the operation inplace on the original object.\n",
      "\n",
      "\n",
      "  df[feature].fillna(df[feature].median(),inplace=True)\n"
     ]
    }
   ],
   "source": [
    "for feature in feature_numeric:\n",
    "    x_validation = imputeForNullNumerics(feature,x_validation)"
   ]
  },
  {
   "cell_type": "code",
   "execution_count": 29,
   "id": "b8008f8f",
   "metadata": {
    "execution": {
     "iopub.execute_input": "2024-03-27T16:21:19.540608Z",
     "iopub.status.busy": "2024-03-27T16:21:19.540151Z",
     "iopub.status.idle": "2024-03-27T16:21:19.571590Z",
     "shell.execute_reply": "2024-03-27T16:21:19.569881Z"
    },
    "papermill": {
     "duration": 0.044658,
     "end_time": "2024-03-27T16:21:19.574599",
     "exception": false,
     "start_time": "2024-03-27T16:21:19.529941",
     "status": "completed"
    },
    "tags": []
   },
   "outputs": [],
   "source": [
    "for feature in feature_numeric:\n",
    "    normalizeFeatures(x_validation, feature)"
   ]
  },
  {
   "cell_type": "code",
   "execution_count": 30,
   "id": "edc180a8",
   "metadata": {
    "execution": {
     "iopub.execute_input": "2024-03-27T16:21:19.593710Z",
     "iopub.status.busy": "2024-03-27T16:21:19.593296Z",
     "iopub.status.idle": "2024-03-27T16:21:19.929612Z",
     "shell.execute_reply": "2024-03-27T16:21:19.928751Z"
    },
    "papermill": {
     "duration": 0.349427,
     "end_time": "2024-03-27T16:21:19.932206",
     "exception": false,
     "start_time": "2024-03-27T16:21:19.582779",
     "status": "completed"
    },
    "tags": []
   },
   "outputs": [],
   "source": [
    "Y_valid_prediction = modelRF.predict(x_validation)"
   ]
  },
  {
   "cell_type": "code",
   "execution_count": null,
   "id": "6d49c70c",
   "metadata": {
    "papermill": {
     "duration": 0.00732,
     "end_time": "2024-03-27T16:21:19.947835",
     "exception": false,
     "start_time": "2024-03-27T16:21:19.940515",
     "status": "completed"
    },
    "tags": []
   },
   "outputs": [],
   "source": []
  }
 ],
 "metadata": {
  "kaggle": {
   "accelerator": "none",
   "dataSources": [
    {
     "databundleVersionId": 7790774,
     "sourceId": 71296,
     "sourceType": "competition"
    }
   ],
   "dockerImageVersionId": 30664,
   "isGpuEnabled": false,
   "isInternetEnabled": false,
   "language": "python",
   "sourceType": "notebook"
  },
  "kernelspec": {
   "display_name": "Python 3",
   "language": "python",
   "name": "python3"
  },
  "language_info": {
   "codemirror_mode": {
    "name": "ipython",
    "version": 3
   },
   "file_extension": ".py",
   "mimetype": "text/x-python",
   "name": "python",
   "nbconvert_exporter": "python",
   "pygments_lexer": "ipython3",
   "version": "3.10.13"
  },
  "papermill": {
   "default_parameters": {},
   "duration": 60.916056,
   "end_time": "2024-03-27T16:21:20.779814",
   "environment_variables": {},
   "exception": null,
   "input_path": "__notebook__.ipynb",
   "output_path": "__notebook__.ipynb",
   "parameters": {},
   "start_time": "2024-03-27T16:20:19.863758",
   "version": "2.5.0"
  }
 },
 "nbformat": 4,
 "nbformat_minor": 5
}
