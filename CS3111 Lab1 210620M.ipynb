{
 "cells": [
  {
   "cell_type": "markdown",
   "id": "769a492d",
   "metadata": {},
   "source": [
    "# 210620M Lab 1 Jupyter Notebook"
   ]
  },
  {
   "cell_type": "code",
   "execution_count": 23,
   "id": "cb884685",
   "metadata": {},
   "outputs": [],
   "source": [
    "import pandas as pd\n",
    "from sklearn.preprocessing import LabelEncoder"
   ]
  },
  {
   "cell_type": "markdown",
   "id": "7ac18a91",
   "metadata": {},
   "source": [
    "Importing Required Libraries.\n",
    "Pandas is used for handling the dataframes\n",
    "ScikitLearn for encoding categorical features"
   ]
  },
  {
   "cell_type": "code",
   "execution_count": 24,
   "id": "3df7fda3",
   "metadata": {},
   "outputs": [],
   "source": [
    "train_set = pd.read_csv('train.csv')"
   ]
  },
  {
   "cell_type": "markdown",
   "id": "d9936637",
   "metadata": {},
   "source": [
    "Storing the train data set in the train_set data frame"
   ]
  },
  {
   "cell_type": "code",
   "execution_count": 25,
   "id": "f75d7074",
   "metadata": {},
   "outputs": [],
   "source": [
    "feature_list = train_set.columns.tolist()\n",
    "removableFeatures=[]"
   ]
  },
  {
   "cell_type": "markdown",
   "id": "c380efe4",
   "metadata": {},
   "source": [
    "feature_list holds the features in the data frame. romovableFeatures are the features that we remove from the data frame prior to modeling the dataset"
   ]
  },
  {
   "cell_type": "markdown",
   "id": "19950785",
   "metadata": {},
   "source": [
    "# Removing Features"
   ]
  },
  {
   "cell_type": "code",
   "execution_count": 26,
   "id": "bad4cbff",
   "metadata": {
    "scrolled": true
   },
   "outputs": [],
   "source": [
    "#remove the features with more than 30% null values\n",
    "def Remove_Maj_Null_Features(df, feature_list):\n",
    "    total_values_feature = df.shape[0]\n",
    "    count = 0\n",
    "    featuresWithNulls = []\n",
    "    for feature in feature_list:\n",
    "        if df[feature].count()<total_values_feature*0.7:\n",
    "            featuresWithNulls.append(feature)\n",
    "    df.drop(columns=featuresWithNulls, inplace=True)\n",
    "    return featuresWithNulls\n",
    "NullFeatures = Remove_Maj_Null_Features(train_set,feature_list)\n",
    "removableFeatures=removableFeatures+NullFeatures"
   ]
  },
  {
   "cell_type": "markdown",
   "id": "787c12e6",
   "metadata": {},
   "source": [
    "While analyzing the data set it was clear that there were many features with null data sets. while taking 30% as the maximum null threshold for each feature we are removing other features from the data set."
   ]
  },
  {
   "cell_type": "code",
   "execution_count": 27,
   "id": "18191d95",
   "metadata": {},
   "outputs": [
    {
     "name": "stdout",
     "output_type": "stream",
     "text": [
      "['pymnt_plan', 'out_prncp', 'out_prncp_inv', 'policy_code', 'hardship_flag']\n"
     ]
    }
   ],
   "source": [
    "#droppingSingleValuedFeatures\n",
    "def Drop_Single_Valued_Features(df):\n",
    "    singleUniqueFeatures = [feature for feature in df.columns if df[feature].nunique() == 1]\n",
    "    return singleUniqueFeatures\n",
    "    \n",
    "singleUniqueFeatures = Drop_Single_Valued_Features(train_set)\n",
    "train_set.drop(columns=singleUniqueFeatures, inplace=True)\n",
    "removableFeatures = removableFeatures+singleUniqueFeatures\n",
    "print(singleUniqueFeatures)"
   ]
  },
  {
   "cell_type": "markdown",
   "id": "6bdca3fb",
   "metadata": {},
   "source": [
    "Above given are output features are then removed because they have the same value for all rows."
   ]
  },
  {
   "cell_type": "code",
   "execution_count": 28,
   "id": "ee3e2a82",
   "metadata": {},
   "outputs": [
    {
     "name": "stdout",
     "output_type": "stream",
     "text": [
      "Number of rows before cleaning:  517788\n",
      "Number of rows after cleaning:  (517788, 82)\n"
     ]
    }
   ],
   "source": [
    "#checking rows with less than 50% of data included\n",
    "print(\"Number of rows before cleaning: \", train_set.shape[0])\n",
    "threshold = len(train_set.columns) * 0.5\n",
    "df = train_set.dropna(thresh=threshold)\n",
    "print(\"Number of rows after cleaning: \", df.shape)"
   ]
  },
  {
   "cell_type": "markdown",
   "id": "2fe0d77e",
   "metadata": {},
   "source": [
    "When checking if there are data entries which have more than 50% features as null, we find that there aren't any"
   ]
  },
  {
   "cell_type": "code",
   "execution_count": 29,
   "id": "e2c93930",
   "metadata": {},
   "outputs": [],
   "source": [
    "#Following features can be removed from data set due to their irrelevance\n",
    "irrelevantFeatures = ['emp_title','zip_code','addr_state']\n",
    "train_set.drop(columns=irrelevantFeatures, inplace=True)\n",
    "removableFeatures = removableFeatures+irrelevantFeatures"
   ]
  },
  {
   "cell_type": "markdown",
   "id": "d68e5fa8",
   "metadata": {},
   "source": [
    "When analyzing these features it was clear that emp_title had large abstraction to be encoded and zip_code,addr_state is assumed as features that can be removed due to their irrelavance to the final prediction."
   ]
  },
  {
   "cell_type": "code",
   "execution_count": 30,
   "id": "c8bcd468",
   "metadata": {},
   "outputs": [],
   "source": [
    "highRatioUniqueFeatures = []\n",
    "for feature in train_set.columns:\n",
    "        value_counts = train_set[feature].value_counts(normalize=True)\n",
    "        max_ratio_value = value_counts.idxmax()\n",
    "        max_ratio = value_counts.max()\n",
    "        \n",
    "        # Print the ratios for values with ratio > 0.99 of the max ratio\n",
    "        for value, ratio in value_counts.items():\n",
    "            if ratio > 0.99:\n",
    "                highRatioUniqueFeatures.append(feature)\n",
    "train_set.drop(columns=highRatioUniqueFeatures, inplace=True)  \n",
    "removableFeatures = removableFeatures + highRatioUniqueFeatures"
   ]
  },
  {
   "cell_type": "markdown",
   "id": "762ae815",
   "metadata": {},
   "source": [
    "We can assume that if a data set has 99% with same value its impact on the result is low. So after checking these features, they are also being removed."
   ]
  },
  {
   "cell_type": "code",
   "execution_count": 31,
   "id": "0bcf2a38",
   "metadata": {},
   "outputs": [],
   "source": [
    "train_set.drop(columns=['grade','title'], inplace=True) \n",
    "removableFeatures = removableFeatures+['grade','title']"
   ]
  },
  {
   "cell_type": "markdown",
   "id": "0b137d39",
   "metadata": {},
   "source": [
    "sub_grade gives the same insight as the grade but more so grade feature can be removed. Purpose and title also gives the same insight but title seems to have null values so title is removed"
   ]
  },
  {
   "cell_type": "markdown",
   "id": "566eafa3",
   "metadata": {},
   "source": [
    "# Encoding and Imputing for Null Values in Categorical Features"
   ]
  },
  {
   "cell_type": "code",
   "execution_count": 32,
   "id": "5974430d",
   "metadata": {},
   "outputs": [],
   "source": [
    "def encodeTerm(train_set):\n",
    "    #Label encoding term and impute mode for null\n",
    "    mode_term = train_set['term'].mode()[0]\n",
    "    train_set['term'] = train_set['term'].fillna(mode_term)\n",
    "    term_values = train_set['term'].values\n",
    "    term_label_mapping = {\n",
    "        ' 36 months':1,\n",
    "        ' 60 months':2\n",
    "    }\n",
    "    label_encoder = LabelEncoder()\n",
    "    label_encoder.fit(list(term_label_mapping.keys()))\n",
    "    term_encoded_values = [term_label_mapping[value] for value in term_values]\n",
    "    train_set['term'] = term_encoded_values\n",
    "    return train_set\n",
    "\n",
    "def encodeSubGrade(train_set):\n",
    "    #Label encoding sub_grade and impute mode for null\n",
    "    mode_SG = train_set['sub_grade'].mode()[0]\n",
    "    train_set['sub_grade'] = train_set['sub_grade'].fillna(mode_SG)\n",
    "    subGrade_values = train_set['sub_grade'].values\n",
    "    subGrade_label_mapping = {\n",
    "        'A1':1, 'A2':2, 'A3':3, 'A4':4, 'A5':5, 'B1':6, 'B2':7, 'B3':8, 'B4':9, 'B5':10, 'C1':11, 'C2':12, 'C3':13, 'C4':14, 'C5':15, 'D1':16, 'D2':17, 'D3':18, 'D4':19, 'D5':20, 'E1':21, 'E2':22, 'E3':23, 'E4':24, 'E5':25, 'F1':26, 'F2':27, 'F3':28, 'F4':29, 'F5':30, 'G1':31, 'G2':32, 'G3':33, 'G4':34, 'G5':35\n",
    "    }\n",
    "    label_encoder = LabelEncoder()\n",
    "    label_encoder.fit(list(subGrade_label_mapping.keys()))\n",
    "    subGrade_encoded_values = [subGrade_label_mapping[value] for value in subGrade_values]\n",
    "    train_set['sub_grade'] = subGrade_encoded_values\n",
    "    return train_set\n",
    "\n",
    "def encodeDSFlag(train_set):\n",
    "    #label encoding debt_settlement_flag and impute mode for null\n",
    "    mode_DSF = train_set['debt_settlement_flag'].mode()[0]\n",
    "    train_set['debt_settlement_flag'] = train_set['debt_settlement_flag'].fillna(mode_DSF)\n",
    "    debtSettlementFlag_values = train_set['debt_settlement_flag'].values\n",
    "    debtSettlementFlag_label_mapping = {'N':0, 'Y':1}\n",
    "    label_encoder = LabelEncoder()\n",
    "    label_encoder.fit(list(debtSettlementFlag_label_mapping.keys()))\n",
    "    debtSettlementFlag_encoded_values = [debtSettlementFlag_label_mapping[value] for value in debtSettlementFlag_values]\n",
    "    train_set['debt_settlement_flag'] = debtSettlementFlag_encoded_values\n",
    "    return train_set\n",
    "\n",
    "def encodeEmpLen(train_set):   \n",
    "    #Label encoding emp_length and impute mode for null\n",
    "    mode_empLength = train_set['emp_length'].mode()[0]\n",
    "    train_set['emp_length'] = train_set['emp_length'].fillna(mode_empLength)\n",
    "    empLength_values = train_set['emp_length'].values\n",
    "    empLength_label_mapping = {'1 year':1, '4 years':4, '< 1 year':0, '5 years':5, '10+ years':11, '2 years':2, '7 years':7, '9 years':9, '3 years':3, '8 years':8, '6 years':6}\n",
    "    label_encoder = LabelEncoder()\n",
    "    label_encoder.fit(list(empLength_label_mapping.keys()))\n",
    "    empLength_encoded_values = [empLength_label_mapping[value] for value in empLength_values]\n",
    "    train_set['emp_length'] = empLength_encoded_values\n",
    "    return train_set\n",
    "    \n",
    "def encodeVerification(train_set):\n",
    "    #label encoding verification_staues and impute mode for null\n",
    "    mode_ver = train_set['verification_status'].mode()[0]\n",
    "    train_set['verification_status'] = train_set['verification_status'].fillna(mode_ver)\n",
    "    verification_values = train_set['verification_status'].values\n",
    "    verification_label_mapping = {'Not Verified':1, 'Verified':2, 'Source Verified':3}\n",
    "    label_encoder = LabelEncoder()\n",
    "    label_encoder.fit(list(verification_label_mapping.keys()))\n",
    "    verification_encoded_values = [verification_label_mapping[value] for value in verification_values]\n",
    "    train_set['verification_status'] = verification_encoded_values\n",
    "    return train_set\n",
    "    \n",
    "def encodeInitialStat(train_set):\n",
    "    #label encoding initial_list_status and impute mode for null\n",
    "    mode_iStat = train_set['initial_list_status'].mode()[0]\n",
    "    train_set['initial_list_status'] = train_set['initial_list_status'].fillna(mode_iStat)\n",
    "    initialStat_values = train_set['initial_list_status'].values\n",
    "    initialStat_label_mapping = {'f':1,'w':0}\n",
    "    label_encoder = LabelEncoder()\n",
    "    label_encoder.fit(list(initialStat_label_mapping.keys()))\n",
    "    initialStat_encoded_values = [initialStat_label_mapping[value] for value in initialStat_values]\n",
    "    train_set['initial_list_status'] = initialStat_encoded_values\n",
    "    return train_set\n",
    "    \n",
    "def encodeApplicationType(train_set):\n",
    "    #label encoding application_type and impute mode for null\n",
    "    mode_appType = train_set['application_type'].mode()[0]\n",
    "    train_set['application_type'] = train_set['application_type'].fillna(mode_appType)\n",
    "    applicationType_values = train_set['application_type'].values\n",
    "    applicationType_label_mapping = {'Individual':1,'Joint App':0}\n",
    "    label_encoder = LabelEncoder()\n",
    "    label_encoder.fit(list(applicationType_label_mapping.keys()))\n",
    "    applicationType_encoded_values = [applicationType_label_mapping[value] for value in applicationType_values]\n",
    "    train_set['application_type'] = applicationType_encoded_values\n",
    "    return train_set\n",
    "    \n",
    "def encodeHomeOwnership(train_set):\n",
    "    #Onehot encoding home_ownership and imputing mode for null\n",
    "    mode_HO = train_set['home_ownership'].mode()[0]\n",
    "    train_set['home_ownership'] = train_set['home_ownership'].fillna(mode_HO)\n",
    "    oneHotEncodedHomeOwnership = pd.get_dummies(train_set['home_ownership'], prefix='home_ownership')\n",
    "    train_set = pd.concat([train_set, oneHotEncodedHomeOwnership], axis=1)\n",
    "    one_Hot_List = oneHotEncodedHomeOwnership.columns.tolist()\n",
    "    train_set.drop('home_ownership', axis=1, inplace=True)\n",
    "    return train_set\n",
    "    \n",
    "def encodePurpose(train_set):\n",
    "    #Onehot encoding purpose and imputing mode for null\n",
    "    mode_purpose = train_set['purpose'].mode()[0]\n",
    "    train_set['purpose'] = train_set['purpose'].fillna(mode_purpose)\n",
    "    oneHotEncodedpurpose = pd.get_dummies(train_set['purpose'], prefix='purpose')\n",
    "    train_set = pd.concat([train_set, oneHotEncodedpurpose], axis=1)\n",
    "    one_Hot_List = oneHotEncodedpurpose.columns.tolist()\n",
    "    train_set.drop('purpose', axis=1, inplace=True)\n",
    "    return train_set\n",
    "    \n",
    "def encodeClass(df):\n",
    "    #call the encoding functions for df\n",
    "    df = encodeTerm(df)\n",
    "    df = encodeSubGrade(df)\n",
    "    df = encodeDSFlag(df)\n",
    "    df = encodeEmpLen(df)\n",
    "    df = encodeVerification(df)\n",
    "    df = encodeInitialStat(df)\n",
    "    df = encodeApplicationType(df)\n",
    "    df = encodeHomeOwnership(df)\n",
    "    df = encodePurpose(df)\n",
    "    return df\n",
    "\n",
    "train_set = encodeClass(train_set)"
   ]
  },
  {
   "cell_type": "markdown",
   "id": "bf2cb076",
   "metadata": {},
   "source": [
    "# Feature crossing (synthesis of new features)"
   ]
  },
  {
   "cell_type": "code",
   "execution_count": 33,
   "id": "82cc7232",
   "metadata": {},
   "outputs": [],
   "source": [
    "def transformDates(feature, train_set):\n",
    "    # Convert 'feature' to datetime\n",
    "    train_set[feature] = pd.to_datetime(train_set[feature], errors='coerce')\n",
    "    \n",
    "    # Calculate the mode value (most frequent date)\n",
    "    mode_value = train_set[feature].mode()[0]\n",
    "    \n",
    "    # Replace null values with the mode value\n",
    "    train_set[feature].fillna(mode_value, inplace=True)\n",
    "    \n",
    "    # Find the earliest date after filling missing values\n",
    "    earliest_date = train_set[feature].min()\n",
    "    \n",
    "    # Convert dates to numerical values based on months from earliest date\n",
    "    train_set[feature] = (train_set[feature] - earliest_date).dt.days // 30\n",
    "    \n",
    "transformDates('issue_d',train_set)\n",
    "transformDates('earliest_cr_line',train_set)\n",
    "transformDates('last_pymnt_d',train_set)\n",
    "transformDates('last_credit_pull_d',train_set)"
   ]
  },
  {
   "cell_type": "markdown",
   "id": "c6ccc64f",
   "metadata": {},
   "source": [
    "Transform date to a value and impute the mode to null values. date values are formatted with respect to the earliest date given in the feature"
   ]
  },
  {
   "cell_type": "code",
   "execution_count": 34,
   "id": "031a22f5",
   "metadata": {},
   "outputs": [],
   "source": [
    "Dealt_features = ['issue_d','earliest_cr_line','last_pymnt_d','last_credit_pull_d','term','sub_grade','debt_settlement_flag','emp_length','verification_status','initial_list_status','application_type','home_ownership','purpose']"
   ]
  },
  {
   "cell_type": "markdown",
   "id": "a785f3c1",
   "metadata": {},
   "source": [
    "These are the features that we already imputed the null values"
   ]
  },
  {
   "cell_type": "code",
   "execution_count": 35,
   "id": "5496a736",
   "metadata": {},
   "outputs": [],
   "source": [
    "def imputeForNullNumerics(feature,df):\n",
    "    #check the skewness of the data in the given feature and impute statistical values accordingly\n",
    "    if df[feature].isnull().any():\n",
    "        skewness = df[feature].skew()\n",
    "        if skewness<-1 or skewness>1:\n",
    "            df[feature].fillna(df[feature].median(),inplace=True)\n",
    "        else:\n",
    "            df[feature].fillna(df[feature].mean(),inplace=True)\n",
    "\n",
    "features = train_set.columns\n",
    "for f in features:\n",
    "    if f not in Dealt_features and f !='loan_status':\n",
    "        imputeForNullNumerics(f,train_set)"
   ]
  },
  {
   "cell_type": "markdown",
   "id": "f21483b4",
   "metadata": {},
   "source": [
    "Impute statstical values to the numerical features depending on their dataset skewness"
   ]
  },
  {
   "cell_type": "code",
   "execution_count": 36,
   "id": "533a8b5d",
   "metadata": {},
   "outputs": [],
   "source": [
    "Y_train = train_set['loan_status']\n",
    "X_train = train_set.drop(columns=['loan_status'])"
   ]
  },
  {
   "cell_type": "markdown",
   "id": "a3168371",
   "metadata": {},
   "source": [
    "Seperate the Y value set from X value set"
   ]
  },
  {
   "cell_type": "code",
   "execution_count": 46,
   "id": "3c1e5dd7",
   "metadata": {},
   "outputs": [
    {
     "name": "stdout",
     "output_type": "stream",
     "text": [
      "loan_amnt                   0.009802\n",
      "funded_amnt                 0.010381\n",
      "funded_amnt_inv             0.008160\n",
      "term                        0.059041\n",
      "int_rate                    0.051867\n",
      "                              ...   \n",
      "purpose_moving              0.000083\n",
      "purpose_other               0.000000\n",
      "purpose_renewable_energy    0.000507\n",
      "purpose_small_business      0.000000\n",
      "purpose_vacation            0.000059\n",
      "Length: 88, dtype: float64\n"
     ]
    }
   ],
   "source": [
    "from sklearn.feature_selection import mutual_info_classif\n",
    "\n",
    "importance = mutual_info_classif(X_train, Y_train)\n",
    "feat_importance = pd.Series(importance, index=train_set.columns[:-1]) \n",
    "print(feat_importance)"
   ]
  },
  {
   "cell_type": "markdown",
   "id": "d762fe2b",
   "metadata": {},
   "source": [
    "Get the importance levels of the current features that we have"
   ]
  },
  {
   "cell_type": "code",
   "execution_count": 53,
   "id": "5cb4b885",
   "metadata": {},
   "outputs": [
    {
     "name": "stdout",
     "output_type": "stream",
     "text": [
      "total_rec_prncp            0.595062\n",
      "last_pymnt_amnt            0.386325\n",
      "recoveries                 0.316660\n",
      "collection_recovery_fee    0.296999\n",
      "total_pymnt                0.119746\n",
      "total_pymnt_inv            0.116871\n",
      "last_credit_pull_d         0.091398\n",
      "application_type           0.071168\n",
      "term                       0.059041\n",
      "int_rate                   0.051867\n",
      "sub_grade                  0.051209\n",
      "debt_settlement_flag       0.046847\n",
      "installment                0.039638\n",
      "total_rec_int              0.030754\n",
      "verification_status        0.029080\n",
      "total_rec_late_fee         0.027081\n",
      "purpose_credit_card        0.025948\n",
      "home_ownership_ANY         0.020813\n",
      "last_pymnt_d               0.019360\n",
      "emp_length                 0.017778\n",
      "dtype: float64\n",
      "0.5950618602229618\n"
     ]
    }
   ],
   "source": [
    "top_20_features = feat_importance.nlargest(20)\n",
    "print(top_20_features)"
   ]
  },
  {
   "cell_type": "markdown",
   "id": "14f9e203",
   "metadata": {},
   "source": [
    "Select the 20 most important features out of the feat_importances"
   ]
  },
  {
   "cell_type": "code",
   "execution_count": 38,
   "id": "47f3f1bf",
   "metadata": {},
   "outputs": [
    {
     "name": "stdout",
     "output_type": "stream",
     "text": [
      "Correlated feature pairs:\n",
      "('collection_recovery_fee', 'recoveries')\n",
      "('total_pymnt', 'total_rec_prncp')\n",
      "('total_pymnt_inv', 'total_rec_prncp')\n",
      "('sub_grade', 'int_rate')\n",
      "\n",
      "Selected features after removing highly correlated features:\n",
      "last_pymnt_amnt            0.386652\n",
      "collection_recovery_fee    0.297683\n",
      "total_pymnt                0.119769\n",
      "total_pymnt_inv            0.116776\n",
      "last_credit_pull_d         0.092302\n",
      "application_type           0.072823\n",
      "term                       0.060278\n",
      "sub_grade                  0.050601\n",
      "debt_settlement_flag       0.045835\n",
      "installment                0.039678\n",
      "total_rec_int              0.031042\n",
      "verification_status        0.030152\n",
      "total_rec_late_fee         0.025446\n",
      "purpose_credit_card        0.025138\n",
      "home_ownership_ANY         0.021746\n",
      "last_pymnt_d               0.019282\n",
      "emp_length                 0.017464\n",
      "dtype: float64\n"
     ]
    }
   ],
   "source": [
    "import numpy as np\n",
    "# Step 1: Calculate the correlation matrix of the highest important features\n",
    "corr_matrix = train_set[top_20_features.index].corr().abs()\n",
    "\n",
    "# Identify highly correlated feature pairs\n",
    "upper = corr_matrix.where(np.triu(np.ones(corr_matrix.shape), k=1).astype(bool))\n",
    "correlated_pairs = []\n",
    "to_drop = set()\n",
    "for column in upper.columns:\n",
    "    correlated = upper[column][upper[column] > 0.8].index.tolist()\n",
    "    if correlated:\n",
    "        correlated_pairs.append((column, correlated[0]))  # Store the correlated pair\n",
    "        to_drop.add(correlated[0])  # Keep only the first feature in each correlated pair\n",
    "\n",
    "# Remove highly correlated features from the selected features\n",
    "selected_features = top_20_features.drop(to_drop)\n",
    "\n",
    "# Print the correlated pairs\n",
    "print(\"Correlated feature pairs:\")\n",
    "for pair in correlated_pairs:\n",
    "    print(pair)\n",
    "\n",
    "# Print the selected features after removing highly correlated features\n",
    "print(\"\\nSelected features after removing highly correlated features:\")\n",
    "print(selected_features)"
   ]
  },
  {
   "cell_type": "markdown",
   "id": "203cdbfc",
   "metadata": {},
   "source": [
    "Find the correlated pairs in the top 20 features and from these correlated pairs delete one entry(select accordingly if there are more than two correlated pairs together). When removing a feature its best if we keep the high importance feature."
   ]
  },
  {
   "cell_type": "code",
   "execution_count": 37,
   "id": "0bf7b4a0",
   "metadata": {},
   "outputs": [],
   "source": [
    "selected_features = ['last_pymnt_amnt', 'collection_recovery_fee', 'total_pymnt',\n",
    "                     'last_credit_pull_d', 'application_type', 'term',\n",
    "                     'sub_grade', 'debt_settlement_flag', 'installment', 'total_rec_int',\n",
    "                     'verification_status', 'total_rec_late_fee', 'purpose_credit_card',\n",
    "                     'home_ownership_ANY', 'emp_length', 'last_pymnt_d']\n",
    "X_train = X_train[selected_features]"
   ]
  },
  {
   "cell_type": "code",
   "execution_count": 38,
   "id": "ab711832",
   "metadata": {},
   "outputs": [
    {
     "data": {
      "text/plain": [
       "XGBClassifier(base_score=None, booster=None, callbacks=None,\n",
       "              colsample_bylevel=None, colsample_bynode=None,\n",
       "              colsample_bytree=None, device=None, early_stopping_rounds=None,\n",
       "              enable_categorical=False, eval_metric=None, feature_types=None,\n",
       "              gamma=None, grow_policy=None, importance_type=None,\n",
       "              interaction_constraints=None, learning_rate=None, max_bin=None,\n",
       "              max_cat_threshold=None, max_cat_to_onehot=None,\n",
       "              max_delta_step=None, max_depth=None, max_leaves=None,\n",
       "              min_child_weight=None, missing=nan, monotone_constraints=None,\n",
       "              multi_strategy=None, n_estimators=None, n_jobs=None,\n",
       "              num_parallel_tree=None, random_state=None, ...)"
      ]
     },
     "execution_count": 38,
     "metadata": {},
     "output_type": "execute_result"
    }
   ],
   "source": [
    "from numpy import loadtxt\n",
    "from xgboost import XGBClassifier\n",
    "from sklearn.model_selection import train_test_split\n",
    "from sklearn.metrics import accuracy_score\n",
    "\n",
    "model = XGBClassifier()\n",
    "model.fit(X_train, Y_train)"
   ]
  },
  {
   "cell_type": "code",
   "execution_count": 39,
   "id": "a7f34b29",
   "metadata": {},
   "outputs": [
    {
     "name": "stdout",
     "output_type": "stream",
     "text": [
      "Accuracy: 99.90%\n"
     ]
    }
   ],
   "source": [
    "y_pred = model.predict(X_train)\n",
    "predictions = [round(value) for value in y_pred]\n",
    "accuracy = accuracy_score(Y_train, predictions)\n",
    "print(\"Accuracy: %.2f%%\" % (accuracy * 100.0))"
   ]
  },
  {
   "cell_type": "markdown",
   "id": "31ca5f09",
   "metadata": {},
   "source": [
    "# Follow the same process for Validation Data set"
   ]
  },
  {
   "cell_type": "code",
   "execution_count": 40,
   "id": "92381b45",
   "metadata": {},
   "outputs": [
    {
     "name": "stdout",
     "output_type": "stream",
     "text": [
      "89\n"
     ]
    }
   ],
   "source": [
    "valid_set = pd.read_csv('valid.csv')\n",
    "print(train_set.shape[1])"
   ]
  },
  {
   "cell_type": "code",
   "execution_count": 41,
   "id": "966b22a2",
   "metadata": {},
   "outputs": [],
   "source": [
    "valid_set = valid_set.drop(removableFeatures, axis=1)"
   ]
  },
  {
   "cell_type": "code",
   "execution_count": 42,
   "id": "b7ee31cd",
   "metadata": {},
   "outputs": [],
   "source": [
    "#encoding and imputing classification values\n",
    "valid_set = encodeClass(valid_set)"
   ]
  },
  {
   "cell_type": "code",
   "execution_count": 43,
   "id": "58e60a53",
   "metadata": {},
   "outputs": [],
   "source": [
    "#transform dates\n",
    "transformDates('issue_d',valid_set)\n",
    "transformDates('earliest_cr_line',valid_set)\n",
    "transformDates('last_pymnt_d',valid_set)\n",
    "transformDates('last_credit_pull_d',valid_set)"
   ]
  },
  {
   "cell_type": "code",
   "execution_count": 44,
   "id": "73afbffb",
   "metadata": {},
   "outputs": [],
   "source": [
    "def imputeForNullNumerics(feature,df):\n",
    "    #imputing statistical values to Numerical features\n",
    "    if df[feature].isnull().any():\n",
    "        skewness = df[feature].skew()\n",
    "        if skewness<-1 or skewness>1:\n",
    "            df[feature].fillna(df[feature].median(),inplace=True)\n",
    "        else:\n",
    "            df[feature].fillna(df[feature].mean(),inplace=True)\n",
    "\n",
    "def implimentNumericImputation(df):    \n",
    "    #implement numeric imputation\n",
    "    classificated_features=['term','sub_grade','emp_length','home_ownership_ANY', 'home_ownership_MORTGAGE', 'home_ownership_NONE', 'home_ownership_OTHER', 'home_ownership_OWN', 'home_ownership_RENT','verification_status','purpose_car', 'purpose_credit_card', 'purpose_debt_consolidation', 'purpose_educational', 'purpose_home_improvement', 'purpose_house', 'purpose_major_purchase', 'purpose_medical', 'purpose_moving', 'purpose_other', 'purpose_renewable_energy', 'purpose_small_business', 'purpose_vacation', 'purpose_wedding','application_type','debt_settlement_flag'] \n",
    "    features = df.columns\n",
    "    for f in features:\n",
    "        if f not in classificated_features and f !='loan_status':\n",
    "            imputeForNullNumerics(f,df) \n",
    "            \n",
    "implimentNumericImputation(valid_set)            "
   ]
  },
  {
   "cell_type": "code",
   "execution_count": 45,
   "id": "353c6e73",
   "metadata": {},
   "outputs": [],
   "source": [
    "#seperating the valid X, Y data\n",
    "Y_test = valid_set['loan_status']\n",
    "X_test = valid_set.drop(columns=['loan_status'])"
   ]
  },
  {
   "cell_type": "code",
   "execution_count": 46,
   "id": "09786d7b",
   "metadata": {},
   "outputs": [],
   "source": [
    "#filter X_test set\n",
    "selected_features = ['last_pymnt_amnt', 'collection_recovery_fee', 'total_pymnt',\n",
    "         'last_credit_pull_d', 'application_type', 'term',\n",
    "       'sub_grade', 'debt_settlement_flag', 'installment', 'total_rec_int',\n",
    "       'verification_status', 'total_rec_late_fee', 'purpose_credit_card',\n",
    "       'home_ownership_ANY', 'emp_length', 'last_pymnt_d']\n",
    "X_test = X_test[selected_features]"
   ]
  },
  {
   "cell_type": "code",
   "execution_count": 47,
   "id": "7197cc9e",
   "metadata": {},
   "outputs": [
    {
     "name": "stdout",
     "output_type": "stream",
     "text": [
      "Accuracy: 99.81%\n"
     ]
    }
   ],
   "source": [
    "#checking accuracy\n",
    "y_pred_val = model.predict(X_test)\n",
    "predictions_val = [round(value) for value in y_pred_val]\n",
    "accuracy = accuracy_score(Y_test, predictions_val)\n",
    "print(\"Accuracy: %.2f%%\" % (accuracy * 100.0))"
   ]
  },
  {
   "cell_type": "markdown",
   "id": "30e5cbf0",
   "metadata": {},
   "source": [
    "# Confusion matrix of the model prediction"
   ]
  },
  {
   "cell_type": "code",
   "execution_count": 68,
   "id": "33918e37",
   "metadata": {},
   "outputs": [
    {
     "name": "stdout",
     "output_type": "stream",
     "text": [
      "Accuracy: 99.81%\n",
      "Confusion Matrix:\n",
      "[[ 52008    323]\n",
      " [     2 120263]]\n",
      "Accuracy for positive class (class 1): 100.00%\n",
      "Accuracy for negative class (class 0): 99.38%\n"
     ]
    }
   ],
   "source": [
    "from sklearn.metrics import confusion_matrix, accuracy_score\n",
    "\n",
    "y_pred_val = model.predict(X_test)\n",
    "predictions_val = [round(value) for value in y_pred_val]\n",
    "\n",
    "# Calculate accuracy\n",
    "accuracy = accuracy_score(Y_test, predictions_val)\n",
    "print(\"Accuracy: %.2f%%\" % (accuracy * 100.0))\n",
    "\n",
    "# Calculate confusion matrix\n",
    "conf_matrix = confusion_matrix(Y_test, predictions_val)\n",
    "print(\"Confusion Matrix:\")\n",
    "print(conf_matrix)\n",
    "\n",
    "# Calculate accuracies\n",
    "true_positive = conf_matrix[1][1]\n",
    "false_positive = conf_matrix[0][1]\n",
    "true_negative = conf_matrix[0][0]\n",
    "false_negative = conf_matrix[1][0]\n",
    "\n",
    "accuracy_positive = true_positive / (true_positive + false_negative)\n",
    "accuracy_negative = true_negative / (true_negative + false_positive)\n",
    "\n",
    "print(\"Accuracy for positive class (class 1): %.2f%%\" % (accuracy_positive * 100.0))\n",
    "print(\"Accuracy for negative class (class 0): %.2f%%\" % (accuracy_negative * 100.0))"
   ]
  },
  {
   "cell_type": "code",
   "execution_count": 48,
   "id": "de7d3946",
   "metadata": {},
   "outputs": [
    {
     "data": {
      "image/png": "[encoded data removed]",
      "text/plain": [
       "<Figure size 576x568.8 with 2 Axes>"
      ]
     },
     "metadata": {
      "needs_background": "light"
     },
     "output_type": "display_data"
    },
    {
     "data": {
      "text/plain": [
       "<Figure size 432x288 with 0 Axes>"
      ]
     },
     "metadata": {},
     "output_type": "display_data"
    }
   ],
   "source": [
    "import shap\n",
    "import matplotlib.pyplot as plt\n",
    "\n",
    "# Calculate SHAP values\n",
    "explainer = shap.TreeExplainer(model)\n",
    "shap_values = explainer.shap_values(X_test)\n",
    "\n",
    "# Plot SHAP summary plot\n",
    "shap.summary_plot(shap_values, X_test)\n",
    "\n",
    "# If you want to save the plot to a file\n",
    "plt.savefig('shap_summary_plot.png')\n",
    "\n",
    "# Show the plot\n",
    "plt.show()"
   ]
  },
  {
   "cell_type": "markdown",
   "id": "4752bf0a",
   "metadata": {},
   "source": [
    "# Get the prediction values of the X_test data set"
   ]
  },
  {
   "cell_type": "code",
   "execution_count": 49,
   "id": "f4570f1e",
   "metadata": {},
   "outputs": [],
   "source": [
    "predict_set = pd.read_csv('X_test.csv')"
   ]
  },
  {
   "cell_type": "code",
   "execution_count": 50,
   "id": "aaa69c77",
   "metadata": {},
   "outputs": [],
   "source": [
    "predict_set = predict_set.drop(removableFeatures, axis=1)"
   ]
  },
  {
   "cell_type": "code",
   "execution_count": 51,
   "id": "785c818a",
   "metadata": {},
   "outputs": [],
   "source": [
    "predict_set = encodeClass(predict_set)   "
   ]
  },
  {
   "cell_type": "code",
   "execution_count": 52,
   "id": "69b71e3c",
   "metadata": {},
   "outputs": [],
   "source": [
    "transformDates('issue_d',predict_set)\n",
    "transformDates('earliest_cr_line',predict_set)\n",
    "transformDates('last_pymnt_d',predict_set)\n",
    "transformDates('last_credit_pull_d',predict_set)"
   ]
  },
  {
   "cell_type": "code",
   "execution_count": 53,
   "id": "9f8402b1",
   "metadata": {},
   "outputs": [],
   "source": [
    "implimentNumericImputation(predict_set)            "
   ]
  },
  {
   "cell_type": "code",
   "execution_count": 54,
   "id": "5099562d",
   "metadata": {},
   "outputs": [],
   "source": [
    "selected_features = ['last_pymnt_amnt', 'collection_recovery_fee', 'total_pymnt',\n",
    "         'last_credit_pull_d', 'application_type', 'term',\n",
    "       'sub_grade', 'debt_settlement_flag', 'installment', 'total_rec_int',\n",
    "       'verification_status', 'total_rec_late_fee', 'purpose_credit_card',\n",
    "       'home_ownership_ANY', 'emp_length', 'last_pymnt_d']\n",
    "predict_set = predict_set[selected_features]"
   ]
  },
  {
   "cell_type": "code",
   "execution_count": 55,
   "id": "973ae22a",
   "metadata": {},
   "outputs": [],
   "source": [
    "y_predict = model.predict(predict_set)\n",
    "predictions_val = [round(value) for value in y_predict]"
   ]
  },
  {
   "cell_type": "code",
   "execution_count": 56,
   "id": "638b2e9a",
   "metadata": {},
   "outputs": [],
   "source": [
    "predict_set.insert(0, 'loan_status', predictions_val)\n",
    "#save in a csv file\n",
    "predict_set.to_csv('210620M.csv', index=False)"
   ]
  }
 ],
 "metadata": {
  "kernelspec": {
   "display_name": "Python 3 (ipykernel)",
   "language": "python",
   "name": "python3"
  },
  "language_info": {
   "codemirror_mode": {
    "name": "ipython",
    "version": 3
   },
   "file_extension": ".py",
   "mimetype": "text/x-python",
   "name": "python",
   "nbconvert_exporter": "python",
   "pygments_lexer": "ipython3",
   "version": "3.9.12"
  }
 },
 "nbformat": 4,
 "nbformat_minor": 5
}
